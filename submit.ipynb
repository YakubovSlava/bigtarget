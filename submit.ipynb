{
 "cells": [
  {
   "cell_type": "code",
   "execution_count": 16,
   "metadata": {},
   "outputs": [
    {
     "name": "stdout",
     "output_type": "stream",
     "text": [
      "You are currently using version 1.5.0 of the Azure ML SDK\n",
      "\n",
      "Workspace name: team15\n"
     ]
    }
   ],
   "source": [
    "import azureml.core\n",
    "from azureml.core.authentication import InteractiveLoginAuthentication\n",
    "from azureml.core import Experiment, Workspace\n",
    "import azureml.core\n",
    "from azureml.core.authentication import InteractiveLoginAuthentication\n",
    "from azureml.core import Experiment, Workspace\n",
    "\n",
    "# Check core SDK version number\n",
    "print(\"You are currently using version\", azureml.core.VERSION, \"of the Azure ML SDK\")\n",
    "print(\"\")\n",
    "\n",
    "# Log In to Azure ML Workspace\n",
    "interactive_auth = InteractiveLoginAuthentication(tenant_id=\"76f90eb1-fb9a-4446-9875-4d323d6455ad\")\n",
    "\n",
    "ws = Workspace.from_config(auth=interactive_auth)\n",
    "print('Workspace name: ' + ws.name, sep='\\n')\n",
    "from azureml.core import Dataset\n",
    "\n",
    "# get the dataset from Azure ML Workspace\n",
    "aml_dataset = Dataset.get_by_name(ws, 'test_ds')\n",
    "test_dataset = aml_dataset.to_pandas_dataframe()\n",
    "\n",
    "aml_dataset = Dataset.get_by_name(ws, 'dataset_final')\n",
    "train_dataset = aml_dataset.to_pandas_dataframe()"
   ]
  },
  {
   "cell_type": "code",
   "execution_count": 17,
   "metadata": {},
   "outputs": [],
   "source": [
    "test_dataset.to_csv('test.csv')"
   ]
  },
  {
   "cell_type": "code",
   "execution_count": 18,
   "metadata": {},
   "outputs": [],
   "source": [
    "import lightgbm\n",
    "import pandas as pd\n",
    "import numpy as np\n",
    "from lightgbm import LGBMClassifier\n",
    "from xgboost import XGBClassifier\n",
    "from sklearn.model_selection import KFold\n",
    "from tqdm.notebook import tqdm_notebook\n",
    "import gc\n",
    "from sklearn.model_selection import train_test_split"
   ]
  },
  {
   "cell_type": "code",
   "execution_count": 19,
   "metadata": {},
   "outputs": [],
   "source": [
    "def custom_metric(answers, take_top_ratio=0.25):\n",
    "    answers.sort_values(by='uplift', inplace=True, ascending=False)\n",
    "    n_samples = int(np.ceil(answers.shape[0] * take_top_ratio))\n",
    "    answers = answers.iloc[:n_samples, :]\n",
    "    answers_test = answers[answers['group'] == 'test']['response_att'].sum() / \\\n",
    "                   answers[answers['group'] == 'test'].shape[0]\n",
    "    answers_control = answers[answers['group'] == 'control']['response_att'].sum() / \\\n",
    "                      answers[answers['group'] == 'control'].shape[0]\n",
    "    return (answers_test - answers_control) * 100\n"
   ]
  },
  {
   "cell_type": "code",
   "execution_count": 20,
   "metadata": {},
   "outputs": [],
   "source": [
    "train_dataset = train_dataset.drop('Column1', axis=1)"
   ]
  },
  {
   "cell_type": "code",
   "execution_count": 21,
   "metadata": {},
   "outputs": [],
   "source": [
    "y = train_dataset.group == train_dataset.response_att\n",
    "train = train_dataset.drop(['group', 'response_att'], axis=1)\n",
    "train = train.set_index('CardHolder')"
   ]
  },
  {
   "cell_type": "code",
   "execution_count": 22,
   "metadata": {},
   "outputs": [
    {
     "data": {
      "text/plain": [
       "210395"
      ]
     },
     "execution_count": 22,
     "metadata": {},
     "output_type": "execute_result"
    }
   ],
   "source": [
    "y.sum()"
   ]
  },
  {
   "cell_type": "code",
   "execution_count": 23,
   "metadata": {},
   "outputs": [],
   "source": [
    "for feature in train_dataset:\n",
    "    if '_div_' in feature:\n",
    "        col_1, col_2 = feature.split('_div_')\n",
    "        test_dataset[feature] = test_dataset[col_1]/test_dataset[col_2]\n",
    "    if '_mul_' in feature:\n",
    "        col_1, col_2 = feature.split('_mul_')\n",
    "        test_dataset[feature] = test_dataset[col_1]*test_dataset[col_2]"
   ]
  },
  {
   "cell_type": "code",
   "execution_count": 24,
   "metadata": {},
   "outputs": [],
   "source": [
    "test_data = test_dataset[train_dataset.drop(['group', 'response_att'], axis=1).columns]"
   ]
  },
  {
   "cell_type": "code",
   "execution_count": 25,
   "metadata": {},
   "outputs": [],
   "source": [
    "test_data = test_data.set_index('CardHolder')"
   ]
  },
  {
   "cell_type": "code",
   "execution_count": null,
   "metadata": {},
   "outputs": [
    {
     "data": {
      "application/vnd.jupyter.widget-view+json": {
       "model_id": "e0633174d3ca4bf89c9cea9cb91fbfdb",
       "version_major": 2,
       "version_minor": 0
      },
      "text/plain": [
       "HBox(children=(FloatProgress(value=0.0, max=10.0), HTML(value='')))"
      ]
     },
     "metadata": {},
     "output_type": "display_data"
    },
    {
     "name": "stdout",
     "output_type": "stream",
     "text": [
      "2.506436509210372\n",
      "2.4857005392302343\n",
      "2.500328309032582\n",
      "2.513254617104932\n",
      "2.501902557824509\n",
      "2.509692188533635\n",
      "2.5383721828880406\n",
      "2.5068707988853802\n",
      "2.4877039309408016\n",
      "2.500542977053613\n"
     ]
    }
   ],
   "source": [
    "uplift_test = np.zeros(test_data.shape[0])\n",
    "train_score = 0\n",
    "train_uplift = np.zeros(train.shape[0])\n",
    "max_score = 0\n",
    "max_uplift = None\n",
    "scores = []\n",
    "uplifts = np.zeros((100, test_data.shape[0]))\n",
    "for i in tqdm_notebook(range(10)):\n",
    "    seed = np.random.choice(10000000000)\n",
    "    model = LGBMClassifier(boosting_type='dart', max_depth=3, \n",
    "                       n_estimators=65, class_weight='balanced', n_jobs=-1, random_state=seed, learning_rate=0.5, reg_lambda=0.1,\n",
    "                          )\n",
    "    model.fit(train, y)\n",
    "    train_uplift += model.predict_proba(train)[:, 1]\n",
    "    ans = pd.DataFrame({\n",
    "        'uplift': model.predict_proba(train)[:, 1],\n",
    "        'response_att': train_dataset.response_att,\n",
    "        'group': train_dataset.group.map({1: 'test', 0: 'control'})\n",
    "    })\n",
    "    score = custom_metric(ans, 0.5)\n",
    "    print(score)\n",
    "    train_score += score\n",
    "    uplift_test += model.predict_proba(test_data)[:, 1]\n",
    "    uplifts[i] = model.predict_proba(test_data)[:, 1]\n",
    "    scores.append(score)\n",
    "    if score > max_score:\n",
    "        score = max_score\n",
    "        max_uplift = model.predict_proba(test_data)[:, 1]\n",
    "uplift_test_1 = uplift_test\n",
    "train_uplift_1 = train_uplift"
   ]
  },
  {
   "cell_type": "code",
   "execution_count": 57,
   "metadata": {},
   "outputs": [
    {
     "data": {
      "text/plain": [
       "array([1, 3, 2, 0, 6, 7, 5, 4, 9, 8])"
      ]
     },
     "execution_count": 57,
     "metadata": {},
     "output_type": "execute_result"
    }
   ],
   "source": [
    "np.argsort(scores\n",
    ")"
   ]
  },
  {
   "cell_type": "code",
   "execution_count": null,
   "metadata": {},
   "outputs": [],
   "source": [
    "final_uplift = uplifts[np.argsort(scores)[:-1]].sum(axis=0)\n",
    "final_uplift.shape"
   ]
  },
  {
   "cell_type": "code",
   "execution_count": 84,
   "metadata": {},
   "outputs": [
    {
     "data": {
      "application/vnd.jupyter.widget-view+json": {
       "model_id": "9101e06f7ed84b0a85a2f93c447f64ae",
       "version_major": 2,
       "version_minor": 0
      },
      "text/plain": [
       "HBox(children=(FloatProgress(value=0.0, max=40.0), HTML(value='')))"
      ]
     },
     "metadata": {},
     "output_type": "display_data"
    },
    {
     "name": "stdout",
     "output_type": "stream",
     "text": [
      "6.208766247520731\n",
      "6.182047157819609\n",
      "6.152271588054134\n",
      "6.139356142347488\n",
      "6.189666727433263\n",
      "6.1984265355588235\n",
      "6.178920913295744\n",
      "6.204599772806457\n",
      "6.168834824896141\n",
      "6.2153087651122485\n",
      "6.146280089865014\n",
      "6.20912372816598\n",
      "6.167727138319656\n",
      "6.175259340354897\n",
      "6.180770723842441\n",
      "6.164909468996835\n",
      "6.168404024999\n",
      "6.187188767682317\n",
      "6.214573204028396\n",
      "6.196489697776625\n",
      "6.199802466368784\n",
      "6.131650608545184\n",
      "6.173882722116505\n",
      "6.179771879678634\n",
      "6.204014468614016\n",
      "6.15753379138145\n",
      "6.178787178585746\n",
      "6.156355055760415\n",
      "6.200984156360187\n",
      "6.174154829908765\n",
      "6.130534280905497\n",
      "6.1916795418763275\n",
      "6.168533870581117\n",
      "6.181349282647303\n",
      "6.188720654015157\n",
      "6.14498302321917\n",
      "6.158116582767795\n",
      "6.171945478010016\n",
      "6.185583691449023\n",
      "6.16740710708977\n",
      "\n"
     ]
    }
   ],
   "source": [
    "uplift_test = np.zeros(test_data.shape[0])\n",
    "train_score = 0\n",
    "train_uplift = np.zeros(train.shape[0])\n",
    "for i in tqdm_notebook(range(40)):\n",
    "    seed = np.random.choice(10000000000)\n",
    "    model = LGBMClassifier(boosting_type='dart', max_depth=2, \n",
    "                       n_estimators=105, class_weight='balanced', n_jobs=-1, random_state=seed)\n",
    "    model.fit(train, y)\n",
    "    train_uplift += model.predict_proba(train)[:, 1]\n",
    "    ans = pd.DataFrame({\n",
    "        'uplift': model.predict_proba(train)[:, 1],\n",
    "        'response_att': train_dataset.response_att,\n",
    "        'group': train_dataset.group.map({1: 'test', 0: 'control'})\n",
    "    })\n",
    "    score = custom_metric(ans)\n",
    "    print(score)\n",
    "    train_score += score\n",
    "    uplift_test += model.predict_proba(test_data)[:, 1]\n",
    "uplift_test_2 = uplift_test\n",
    "train_uplift_2 = train_uplift"
   ]
  },
  {
   "cell_type": "code",
   "execution_count": 79,
   "metadata": {},
   "outputs": [
    {
     "data": {
      "text/plain": [
       "6.175773721779237"
      ]
     },
     "execution_count": 79,
     "metadata": {},
     "output_type": "execute_result"
    }
   ],
   "source": [
    "train_score/40"
   ]
  },
  {
   "cell_type": "code",
   "execution_count": 85,
   "metadata": {},
   "outputs": [
    {
     "data": {
      "application/vnd.jupyter.widget-view+json": {
       "model_id": "79fe3d5b9a764257ab890fefacfea040",
       "version_major": 2,
       "version_minor": 0
      },
      "text/plain": [
       "HBox(children=(FloatProgress(value=0.0, max=40.0), HTML(value='')))"
      ]
     },
     "metadata": {},
     "output_type": "display_data"
    },
    {
     "name": "stdout",
     "output_type": "stream",
     "text": [
      "6.228245795757867\n",
      "6.205378626881491\n",
      "6.216262761801278\n",
      "6.208164706873964\n",
      "6.225729972157598\n",
      "6.26021029380657\n",
      "6.161516258169225\n",
      "6.215725958909346\n",
      "6.194576994597509\n",
      "6.201995345004563\n",
      "6.228932056610029\n",
      "6.189783295436638\n",
      "6.178909732581072\n",
      "6.2505199140674765\n",
      "6.225439775374516\n",
      "6.213529885820049\n",
      "6.184601040638263\n",
      "6.188897586065415\n",
      "6.170032259398117\n",
      "6.234052813456548\n",
      "6.232318769560652\n",
      "6.205731649623014\n",
      "6.241827414966253\n",
      "6.231878573671554\n",
      "6.241850235865779\n",
      "6.213643299660424\n",
      "6.217663715283689\n",
      "6.217837078873334\n",
      "6.169745511214756\n",
      "6.240086315189139\n",
      "6.199007221466654\n",
      "6.192229842672051\n",
      "6.234709080209505\n",
      "6.179747018797224\n",
      "6.208281565436816\n",
      "6.216673953677143\n",
      "6.195001195215896\n",
      "6.231516525862846\n",
      "6.228933773853293\n",
      "6.236239777123287\n",
      "\n"
     ]
    }
   ],
   "source": [
    "uplift_test = np.zeros(test_data.shape[0])\n",
    "train_score = 0\n",
    "train_uplift = np.zeros(train.shape[0])\n",
    "\n",
    "for i in tqdm_notebook(range(40)):\n",
    "    seed = np.random.choice(10000000000)\n",
    "    model = LGBMClassifier(boosting_type='gbdt', max_depth=3, \n",
    "                       n_estimators=35, class_weight='balanced', n_jobs=-1, random_state=seed)\n",
    "    model.fit(train, y)\n",
    "    train_uplift += model.predict_proba(train)[:, 1]\n",
    "    ans = pd.DataFrame({\n",
    "        'uplift': model.predict_proba(train)[:, 1],\n",
    "        'response_att': train_dataset.response_att,\n",
    "        'group': train_dataset.group.map({1: 'test', 0: 'control'})\n",
    "    })\n",
    "    score = custom_metric(ans)\n",
    "    print(score)\n",
    "    train_score += score\n",
    "    uplift_test += model.predict_proba(test_data)[:, 1]\n",
    "uplift_test_3 = uplift_test\n",
    "train_uplift_3 = train_uplift"
   ]
  },
  {
   "cell_type": "code",
   "execution_count": 86,
   "metadata": {},
   "outputs": [
    {
     "data": {
      "text/plain": [
       "6.21293568979077"
      ]
     },
     "execution_count": 86,
     "metadata": {},
     "output_type": "execute_result"
    }
   ],
   "source": [
    "train_score/40"
   ]
  },
  {
   "cell_type": "code",
   "execution_count": 99,
   "metadata": {},
   "outputs": [
    {
     "data": {
      "text/plain": [
       "6.266296501576049"
      ]
     },
     "execution_count": 99,
     "metadata": {},
     "output_type": "execute_result"
    }
   ],
   "source": [
    "ans = pd.DataFrame({\n",
    "    'uplift': train_uplift_1,\n",
    "    'response_att': train_dataset.response_att,\n",
    "    'group': train_dataset.group.map({1: 'test', 0: 'control'})\n",
    "})\n",
    "custom_metric(ans)"
   ]
  },
  {
   "cell_type": "code",
   "execution_count": 90,
   "metadata": {},
   "outputs": [
    {
     "data": {
      "text/plain": [
       "6.202564921995313"
      ]
     },
     "execution_count": 90,
     "metadata": {},
     "output_type": "execute_result"
    }
   ],
   "source": [
    "ans = pd.DataFrame({\n",
    "    'uplift': train_uplift_2 ,\n",
    "    'response_att': train_dataset.response_att,\n",
    "    'group': train_dataset.group.map({1: 'test', 0: 'control'})\n",
    "})\n",
    "custom_metric(ans)"
   ]
  },
  {
   "cell_type": "code",
   "execution_count": 91,
   "metadata": {},
   "outputs": [
    {
     "data": {
      "text/plain": [
       "6.22252454514936"
      ]
     },
     "execution_count": 91,
     "metadata": {},
     "output_type": "execute_result"
    }
   ],
   "source": [
    "ans = pd.DataFrame({\n",
    "    'uplift': train_uplift_3 ,\n",
    "    'response_att': train_dataset.response_att,\n",
    "    'group': train_dataset.group.map({1: 'test', 0: 'control'})\n",
    "})\n",
    "custom_metric(ans)"
   ]
  },
  {
   "cell_type": "code",
   "execution_count": 96,
   "metadata": {},
   "outputs": [
    {
     "data": {
      "text/plain": [
       "6.2567074257407596"
      ]
     },
     "execution_count": 96,
     "metadata": {},
     "output_type": "execute_result"
    }
   ],
   "source": [
    "ans = pd.DataFrame({\n",
    "    'uplift': train_uplift_3 + train_uplift_1 ,\n",
    "    'response_att': train_dataset.response_att,\n",
    "    'group': train_dataset.group.map({1: 'test', 0: 'control'})\n",
    "})\n",
    "custom_metric(ans)"
   ]
  },
  {
   "cell_type": "code",
   "execution_count": null,
   "metadata": {},
   "outputs": [],
   "source": [
    "pd.DataFrame({'CardHolder': test_data.reset_index().CardHolder, 'uplift': final_uplift}).to_csv('submission_14.csv', index=0, \n",
    "                                                                                               sep=';')"
   ]
  },
  {
   "cell_type": "code",
   "execution_count": 76,
   "metadata": {},
   "outputs": [
    {
     "data": {
      "text/html": [
       "<div>\n",
       "<style scoped>\n",
       "    .dataframe tbody tr th:only-of-type {\n",
       "        vertical-align: middle;\n",
       "    }\n",
       "\n",
       "    .dataframe tbody tr th {\n",
       "        vertical-align: top;\n",
       "    }\n",
       "\n",
       "    .dataframe thead th {\n",
       "        text-align: right;\n",
       "    }\n",
       "</style>\n",
       "<table border=\"1\" class=\"dataframe\">\n",
       "  <thead>\n",
       "    <tr style=\"text-align: right;\">\n",
       "      <th></th>\n",
       "      <th>CardHolder</th>\n",
       "      <th>uplift</th>\n",
       "    </tr>\n",
       "  </thead>\n",
       "  <tbody>\n",
       "    <tr>\n",
       "      <th>0</th>\n",
       "      <td>16400802</td>\n",
       "      <td>22.387170</td>\n",
       "    </tr>\n",
       "    <tr>\n",
       "      <th>1</th>\n",
       "      <td>15752880</td>\n",
       "      <td>16.375971</td>\n",
       "    </tr>\n",
       "    <tr>\n",
       "      <th>2</th>\n",
       "      <td>15978290</td>\n",
       "      <td>18.474858</td>\n",
       "    </tr>\n",
       "    <tr>\n",
       "      <th>3</th>\n",
       "      <td>16604118</td>\n",
       "      <td>17.416374</td>\n",
       "    </tr>\n",
       "    <tr>\n",
       "      <th>4</th>\n",
       "      <td>15880709</td>\n",
       "      <td>17.720552</td>\n",
       "    </tr>\n",
       "    <tr>\n",
       "      <th>5</th>\n",
       "      <td>16434752</td>\n",
       "      <td>27.885253</td>\n",
       "    </tr>\n",
       "    <tr>\n",
       "      <th>6</th>\n",
       "      <td>16327231</td>\n",
       "      <td>26.475865</td>\n",
       "    </tr>\n",
       "    <tr>\n",
       "      <th>7</th>\n",
       "      <td>16021120</td>\n",
       "      <td>27.816648</td>\n",
       "    </tr>\n",
       "    <tr>\n",
       "      <th>8</th>\n",
       "      <td>16569670</td>\n",
       "      <td>26.221466</td>\n",
       "    </tr>\n",
       "    <tr>\n",
       "      <th>9</th>\n",
       "      <td>16395774</td>\n",
       "      <td>28.115676</td>\n",
       "    </tr>\n",
       "    <tr>\n",
       "      <th>10</th>\n",
       "      <td>15963133</td>\n",
       "      <td>17.316067</td>\n",
       "    </tr>\n",
       "    <tr>\n",
       "      <th>11</th>\n",
       "      <td>16158923</td>\n",
       "      <td>20.977249</td>\n",
       "    </tr>\n",
       "    <tr>\n",
       "      <th>12</th>\n",
       "      <td>16585026</td>\n",
       "      <td>17.443030</td>\n",
       "    </tr>\n",
       "    <tr>\n",
       "      <th>13</th>\n",
       "      <td>16161264</td>\n",
       "      <td>18.474858</td>\n",
       "    </tr>\n",
       "    <tr>\n",
       "      <th>14</th>\n",
       "      <td>16559482</td>\n",
       "      <td>17.207968</td>\n",
       "    </tr>\n",
       "    <tr>\n",
       "      <th>15</th>\n",
       "      <td>16429449</td>\n",
       "      <td>16.892910</td>\n",
       "    </tr>\n",
       "    <tr>\n",
       "      <th>16</th>\n",
       "      <td>16270035</td>\n",
       "      <td>23.665622</td>\n",
       "    </tr>\n",
       "    <tr>\n",
       "      <th>17</th>\n",
       "      <td>15670057</td>\n",
       "      <td>19.851242</td>\n",
       "    </tr>\n",
       "    <tr>\n",
       "      <th>18</th>\n",
       "      <td>15858242</td>\n",
       "      <td>28.115676</td>\n",
       "    </tr>\n",
       "    <tr>\n",
       "      <th>19</th>\n",
       "      <td>16250189</td>\n",
       "      <td>17.428563</td>\n",
       "    </tr>\n",
       "    <tr>\n",
       "      <th>20</th>\n",
       "      <td>16193045</td>\n",
       "      <td>23.827743</td>\n",
       "    </tr>\n",
       "    <tr>\n",
       "      <th>21</th>\n",
       "      <td>15834548</td>\n",
       "      <td>18.692246</td>\n",
       "    </tr>\n",
       "    <tr>\n",
       "      <th>22</th>\n",
       "      <td>16203555</td>\n",
       "      <td>20.944197</td>\n",
       "    </tr>\n",
       "    <tr>\n",
       "      <th>23</th>\n",
       "      <td>15659304</td>\n",
       "      <td>27.136868</td>\n",
       "    </tr>\n",
       "    <tr>\n",
       "      <th>24</th>\n",
       "      <td>16009873</td>\n",
       "      <td>27.816648</td>\n",
       "    </tr>\n",
       "    <tr>\n",
       "      <th>25</th>\n",
       "      <td>16248286</td>\n",
       "      <td>24.849054</td>\n",
       "    </tr>\n",
       "    <tr>\n",
       "      <th>26</th>\n",
       "      <td>15741117</td>\n",
       "      <td>19.027022</td>\n",
       "    </tr>\n",
       "    <tr>\n",
       "      <th>27</th>\n",
       "      <td>16628070</td>\n",
       "      <td>17.563423</td>\n",
       "    </tr>\n",
       "    <tr>\n",
       "      <th>28</th>\n",
       "      <td>16394583</td>\n",
       "      <td>19.831589</td>\n",
       "    </tr>\n",
       "    <tr>\n",
       "      <th>29</th>\n",
       "      <td>16389435</td>\n",
       "      <td>17.313615</td>\n",
       "    </tr>\n",
       "    <tr>\n",
       "      <th>...</th>\n",
       "      <td>...</td>\n",
       "      <td>...</td>\n",
       "    </tr>\n",
       "    <tr>\n",
       "      <th>297387</th>\n",
       "      <td>15955624</td>\n",
       "      <td>21.986153</td>\n",
       "    </tr>\n",
       "    <tr>\n",
       "      <th>297388</th>\n",
       "      <td>15737582</td>\n",
       "      <td>18.513680</td>\n",
       "    </tr>\n",
       "    <tr>\n",
       "      <th>297389</th>\n",
       "      <td>16243302</td>\n",
       "      <td>17.366243</td>\n",
       "    </tr>\n",
       "    <tr>\n",
       "      <th>297390</th>\n",
       "      <td>16371547</td>\n",
       "      <td>16.246717</td>\n",
       "    </tr>\n",
       "    <tr>\n",
       "      <th>297391</th>\n",
       "      <td>16338521</td>\n",
       "      <td>27.816648</td>\n",
       "    </tr>\n",
       "    <tr>\n",
       "      <th>297392</th>\n",
       "      <td>16514566</td>\n",
       "      <td>28.182914</td>\n",
       "    </tr>\n",
       "    <tr>\n",
       "      <th>297393</th>\n",
       "      <td>16044519</td>\n",
       "      <td>18.309443</td>\n",
       "    </tr>\n",
       "    <tr>\n",
       "      <th>297394</th>\n",
       "      <td>16152152</td>\n",
       "      <td>17.570852</td>\n",
       "    </tr>\n",
       "    <tr>\n",
       "      <th>297395</th>\n",
       "      <td>15893488</td>\n",
       "      <td>16.381365</td>\n",
       "    </tr>\n",
       "    <tr>\n",
       "      <th>297396</th>\n",
       "      <td>16518471</td>\n",
       "      <td>18.065522</td>\n",
       "    </tr>\n",
       "    <tr>\n",
       "      <th>297397</th>\n",
       "      <td>15714907</td>\n",
       "      <td>18.338446</td>\n",
       "    </tr>\n",
       "    <tr>\n",
       "      <th>297398</th>\n",
       "      <td>15875823</td>\n",
       "      <td>17.533743</td>\n",
       "    </tr>\n",
       "    <tr>\n",
       "      <th>297399</th>\n",
       "      <td>15853154</td>\n",
       "      <td>18.984020</td>\n",
       "    </tr>\n",
       "    <tr>\n",
       "      <th>297400</th>\n",
       "      <td>16414710</td>\n",
       "      <td>17.050599</td>\n",
       "    </tr>\n",
       "    <tr>\n",
       "      <th>297401</th>\n",
       "      <td>16408867</td>\n",
       "      <td>17.600966</td>\n",
       "    </tr>\n",
       "    <tr>\n",
       "      <th>297402</th>\n",
       "      <td>15809058</td>\n",
       "      <td>16.500855</td>\n",
       "    </tr>\n",
       "    <tr>\n",
       "      <th>297403</th>\n",
       "      <td>16087839</td>\n",
       "      <td>24.984495</td>\n",
       "    </tr>\n",
       "    <tr>\n",
       "      <th>297404</th>\n",
       "      <td>16250605</td>\n",
       "      <td>28.115676</td>\n",
       "    </tr>\n",
       "    <tr>\n",
       "      <th>297405</th>\n",
       "      <td>15927852</td>\n",
       "      <td>17.422964</td>\n",
       "    </tr>\n",
       "    <tr>\n",
       "      <th>297406</th>\n",
       "      <td>16586444</td>\n",
       "      <td>17.735484</td>\n",
       "    </tr>\n",
       "    <tr>\n",
       "      <th>297407</th>\n",
       "      <td>16148366</td>\n",
       "      <td>18.193775</td>\n",
       "    </tr>\n",
       "    <tr>\n",
       "      <th>297408</th>\n",
       "      <td>15835423</td>\n",
       "      <td>20.065607</td>\n",
       "    </tr>\n",
       "    <tr>\n",
       "      <th>297409</th>\n",
       "      <td>15959186</td>\n",
       "      <td>18.870210</td>\n",
       "    </tr>\n",
       "    <tr>\n",
       "      <th>297410</th>\n",
       "      <td>15729526</td>\n",
       "      <td>18.308247</td>\n",
       "    </tr>\n",
       "    <tr>\n",
       "      <th>297411</th>\n",
       "      <td>16340002</td>\n",
       "      <td>30.088695</td>\n",
       "    </tr>\n",
       "    <tr>\n",
       "      <th>297412</th>\n",
       "      <td>16310848</td>\n",
       "      <td>20.614026</td>\n",
       "    </tr>\n",
       "    <tr>\n",
       "      <th>297413</th>\n",
       "      <td>15902487</td>\n",
       "      <td>16.375971</td>\n",
       "    </tr>\n",
       "    <tr>\n",
       "      <th>297414</th>\n",
       "      <td>16537862</td>\n",
       "      <td>20.865146</td>\n",
       "    </tr>\n",
       "    <tr>\n",
       "      <th>297415</th>\n",
       "      <td>16224106</td>\n",
       "      <td>19.664512</td>\n",
       "    </tr>\n",
       "    <tr>\n",
       "      <th>297416</th>\n",
       "      <td>16255807</td>\n",
       "      <td>17.853042</td>\n",
       "    </tr>\n",
       "  </tbody>\n",
       "</table>\n",
       "<p>297417 rows × 2 columns</p>\n",
       "</div>"
      ],
      "text/plain": [
       "        CardHolder     uplift\n",
       "0         16400802  22.387170\n",
       "1         15752880  16.375971\n",
       "2         15978290  18.474858\n",
       "3         16604118  17.416374\n",
       "4         15880709  17.720552\n",
       "5         16434752  27.885253\n",
       "6         16327231  26.475865\n",
       "7         16021120  27.816648\n",
       "8         16569670  26.221466\n",
       "9         16395774  28.115676\n",
       "10        15963133  17.316067\n",
       "11        16158923  20.977249\n",
       "12        16585026  17.443030\n",
       "13        16161264  18.474858\n",
       "14        16559482  17.207968\n",
       "15        16429449  16.892910\n",
       "16        16270035  23.665622\n",
       "17        15670057  19.851242\n",
       "18        15858242  28.115676\n",
       "19        16250189  17.428563\n",
       "20        16193045  23.827743\n",
       "21        15834548  18.692246\n",
       "22        16203555  20.944197\n",
       "23        15659304  27.136868\n",
       "24        16009873  27.816648\n",
       "25        16248286  24.849054\n",
       "26        15741117  19.027022\n",
       "27        16628070  17.563423\n",
       "28        16394583  19.831589\n",
       "29        16389435  17.313615\n",
       "...            ...        ...\n",
       "297387    15955624  21.986153\n",
       "297388    15737582  18.513680\n",
       "297389    16243302  17.366243\n",
       "297390    16371547  16.246717\n",
       "297391    16338521  27.816648\n",
       "297392    16514566  28.182914\n",
       "297393    16044519  18.309443\n",
       "297394    16152152  17.570852\n",
       "297395    15893488  16.381365\n",
       "297396    16518471  18.065522\n",
       "297397    15714907  18.338446\n",
       "297398    15875823  17.533743\n",
       "297399    15853154  18.984020\n",
       "297400    16414710  17.050599\n",
       "297401    16408867  17.600966\n",
       "297402    15809058  16.500855\n",
       "297403    16087839  24.984495\n",
       "297404    16250605  28.115676\n",
       "297405    15927852  17.422964\n",
       "297406    16586444  17.735484\n",
       "297407    16148366  18.193775\n",
       "297408    15835423  20.065607\n",
       "297409    15959186  18.870210\n",
       "297410    15729526  18.308247\n",
       "297411    16340002  30.088695\n",
       "297412    16310848  20.614026\n",
       "297413    15902487  16.375971\n",
       "297414    16537862  20.865146\n",
       "297415    16224106  19.664512\n",
       "297416    16255807  17.853042\n",
       "\n",
       "[297417 rows x 2 columns]"
      ]
     },
     "execution_count": 76,
     "metadata": {},
     "output_type": "execute_result"
    }
   ],
   "source": [
    "pd.DataFrame({'CardHolder': test_data.reset_index().CardHolder, 'uplift': uplift_test})"
   ]
  },
  {
   "cell_type": "code",
   "execution_count": 72,
   "metadata": {},
   "outputs": [
    {
     "data": {
      "text/plain": [
       "(297417, 9)"
      ]
     },
     "execution_count": 72,
     "metadata": {},
     "output_type": "execute_result"
    }
   ],
   "source": []
  },
  {
   "cell_type": "code",
   "execution_count": null,
   "metadata": {},
   "outputs": [],
   "source": []
  }
 ],
 "metadata": {
  "kernelspec": {
   "display_name": "azureml_py36_automl",
   "language": "python",
   "name": "conda-env-azureml_py36_automl-py"
  },
  "language_info": {
   "codemirror_mode": {
    "name": "ipython",
    "version": 3
   },
   "file_extension": ".py",
   "mimetype": "text/x-python",
   "name": "python",
   "nbconvert_exporter": "python",
   "pygments_lexer": "ipython3",
   "version": "3.6.9"
  }
 },
 "nbformat": 4,
 "nbformat_minor": 4
}
